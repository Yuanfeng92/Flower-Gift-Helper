{
 "cells": [
  {
   "cell_type": "code",
   "execution_count": 1,
   "metadata": {},
   "outputs": [
    {
     "data": {
      "text/plain": [
       "'d:\\\\A - My Projects\\\\A - MLOps\\\\Flower-Gift-Helper'"
      ]
     },
     "execution_count": 1,
     "metadata": {},
     "output_type": "execute_result"
    }
   ],
   "source": [
    "import os\n",
    "os.chdir('../')\n",
    "%pwd"
   ]
  },
  {
   "cell_type": "code",
   "execution_count": null,
   "metadata": {},
   "outputs": [],
   "source": []
  },
  {
   "cell_type": "markdown",
   "metadata": {},
   "source": [
    "# Entity"
   ]
  },
  {
   "cell_type": "code",
   "execution_count": 2,
   "metadata": {},
   "outputs": [],
   "source": [
    "from dataclasses import dataclass\n",
    "from pathlib import Path\n",
    "\n",
    "@dataclass(frozen=True)\n",
    "class ModelEvaluationConfig:\n",
    "    trained_model_path: Path\n",
    "    test_dir: Path\n",
    "    params_input_shape: list\n",
    "    params_batch_size: int\n",
    "    params_all: dict"
   ]
  },
  {
   "cell_type": "code",
   "execution_count": null,
   "metadata": {},
   "outputs": [],
   "source": []
  },
  {
   "cell_type": "markdown",
   "metadata": {},
   "source": [
    "# Configuration Manager"
   ]
  },
  {
   "cell_type": "code",
   "execution_count": 3,
   "metadata": {},
   "outputs": [],
   "source": [
    "from flowerClassifier import logger, CONFIG_FILE_PATH, PARAMS_FILE_PATH\n",
    "from flowerClassifier.utils.common import read_yaml, create_directories"
   ]
  },
  {
   "cell_type": "code",
   "execution_count": 4,
   "metadata": {},
   "outputs": [],
   "source": [
    "class ConfigManager():\n",
    "    def __init__(self, config_filepath = CONFIG_FILE_PATH, params_filepath = PARAMS_FILE_PATH):\n",
    "        \n",
    "        self.config = read_yaml(config_filepath)\n",
    "        self.params = read_yaml(params_filepath)\n",
    "        \n",
    "        create_directories([self.config.artifacts_root_dir])\n",
    "        \n",
    "    def get_model_evaluation_config(self) -> ModelEvaluationConfig:\n",
    "                \n",
    "        model_evaluation_config = ModelEvaluationConfig(\n",
    "                trained_model_path=self.config.model_training.trained_model_path,\n",
    "                test_dir=self.config.data_ingestion.data_dir,\n",
    "                params_input_shape=self.params.IMAGE_SIZE,\n",
    "                params_batch_size=self.params.BATCH_SIZE,\n",
    "                params_all=self.params\n",
    "        )\n",
    "        \n",
    "        return model_evaluation_config"
   ]
  },
  {
   "cell_type": "code",
   "execution_count": null,
   "metadata": {},
   "outputs": [],
   "source": []
  },
  {
   "cell_type": "markdown",
   "metadata": {},
   "source": [
    "# Component"
   ]
  },
  {
   "cell_type": "code",
   "execution_count": 5,
   "metadata": {},
   "outputs": [],
   "source": [
    "import tensorflow as tf\n",
    "from pathlib import Path\n",
    "import mlflow\n",
    "from flowerClassifier.utils.common import save_json"
   ]
  },
  {
   "cell_type": "code",
   "execution_count": 8,
   "metadata": {},
   "outputs": [],
   "source": [
    "class EvaluateModel():\n",
    "    def __init__(self, config: ModelEvaluationConfig):\n",
    "        self.config = config\n",
    "        self.model_signature = None\n",
    "        \n",
    "    def create_test_generator(self):\n",
    "        test_datagen = tf.keras.preprocessing.image.ImageDataGenerator(rescale=1./255)\n",
    "\n",
    "        # configure data flow\n",
    "        data_flow_kwargs = dict(\n",
    "            target_size=self.config.params_input_shape[:2],\n",
    "            batch_size=self.config.params_batch_size,\n",
    "            class_mode='categorical',\n",
    "            interpolation=\"bilinear\"\n",
    "        )\n",
    "\n",
    "        self.test_generator = test_datagen.flow_from_directory(\n",
    "            directory = self.config.test_dir,\n",
    "            ** data_flow_kwargs\n",
    "        )\n",
    "        \n",
    "    def create_signature(self):\n",
    "        \n",
    "        # Extract a single image and its label\n",
    "        X_batch, y_batch = next(self.test_generator)\n",
    "        X_sample=X_batch[0:1]\n",
    "        y_sample=y_batch[0:1]\n",
    "\n",
    "        # Get model predictions for the sample image\n",
    "        y_pred=self.trained_model.predict(X_sample)\n",
    "\n",
    "        # Infer the model signature using the input (X_sample) and the output (y_pred)\n",
    "        self.model_signature = mlflow.models.signature.infer_signature(X_sample, y_pred)\n",
    "        logger.info(f\"Model signature created\")\n",
    "        \n",
    "    def save_score(self):\n",
    "        self.scores = {\"loss\": self.score[0], \"accuracy\": self.score[1]}\n",
    "        save_json(path=Path(\"metrics.json\"), data=self.scores)\n",
    "        \n",
    "    def evaluate_model(self):\n",
    "        self.trained_model = tf.keras.models.load_model(self.config.trained_model_path)\n",
    "        self.create_test_generator()\n",
    "        self.score = self.trained_model.evaluate(self.test_generator)\n",
    "        logger.info(f'The accuracy of the model is: {self.score[1]*100:.2f}%')\n",
    "        logger.info(f'The loss of the model is: {self.score[0]:.4f}')\n",
    "        self.save_score()\n",
    "        \n",
    "    def log_to_mlflow(self):\n",
    "        \n",
    "        # Log the model with the inferred signature using MLflow\n",
    "        with mlflow.start_run():\n",
    "            \n",
    "            # Log model and metrics to MLflow\n",
    "            mlflow.log_params(self.config.params_all)\n",
    "            mlflow.log_metrics(self.scores)\n",
    "            \n",
    "            # if signature is not created, create a signature\n",
    "            if self.model_signature == None:\n",
    "                self.create_signature()\n",
    "                \n",
    "            # Log the model\n",
    "            mlflow.keras.log_model(self.trained_model, \"mobilenetv2_model\", signature=self.model_signature)\n",
    "            logger.info(\"Model logged\")"
   ]
  },
  {
   "cell_type": "code",
   "execution_count": null,
   "metadata": {},
   "outputs": [],
   "source": []
  },
  {
   "cell_type": "markdown",
   "metadata": {},
   "source": [
    "# Pipeline"
   ]
  },
  {
   "cell_type": "code",
   "execution_count": 10,
   "metadata": {},
   "outputs": [
    {
     "name": "stdout",
     "output_type": "stream",
     "text": [
      "[2024-09-09 12:01:10,625 | INFO] common: yaml file: constant\\config.yaml loaded successfully\n",
      "[2024-09-09 12:01:10,627 | INFO] common: yaml file: params.yaml loaded successfully\n",
      "[2024-09-09 12:01:10,628 | INFO] common: created directory at: artifacts\n",
      "Found 2746 images belonging to 5 classes.\n"
     ]
    },
    {
     "name": "stderr",
     "output_type": "stream",
     "text": [
      "d:\\A - My Projects\\A - MLOps\\Flower-Gift-Helper\\.conda\\Lib\\site-packages\\keras\\src\\trainers\\data_adapters\\py_dataset_adapter.py:122: UserWarning: Your `PyDataset` class should call `super().__init__(**kwargs)` in its constructor. `**kwargs` can include `workers`, `use_multiprocessing`, `max_queue_size`. Do not pass these arguments to `fit()`, as they will be ignored.\n",
      "  self._warn_if_super_not_called()\n"
     ]
    },
    {
     "name": "stdout",
     "output_type": "stream",
     "text": [
      "\u001b[1m43/43\u001b[0m \u001b[32m━━━━━━━━━━━━━━━━━━━━\u001b[0m\u001b[37m\u001b[0m \u001b[1m32s\u001b[0m 697ms/step - accuracy: 0.9074 - loss: 0.2386\n",
      "[2024-09-09 12:01:43,275 | INFO] 4184225023: The accuracy of the model is: 91.33%\n",
      "[2024-09-09 12:01:43,276 | INFO] 4184225023: The loss of the model is: 0.2400\n",
      "[2024-09-09 12:01:43,277 | INFO] common: json file saved at: metrics.json\n",
      "\u001b[1m1/1\u001b[0m \u001b[32m━━━━━━━━━━━━━━━━━━━━\u001b[0m\u001b[37m\u001b[0m \u001b[1m1s\u001b[0m 968ms/step\n",
      "[2024-09-09 12:01:44,441 | INFO] 4184225023: Model signature created\n",
      "[2024-09-09 12:01:51,405 | INFO] 4184225023: Model logged\n"
     ]
    }
   ],
   "source": [
    "config = ConfigManager()\n",
    "model_evaluation_config = config.get_model_evaluation_config()\n",
    "evaluate_model = EvaluateModel(config=model_evaluation_config)\n",
    "evaluate_model.evaluate_model()\n",
    "evaluate_model.log_to_mlflow()"
   ]
  },
  {
   "cell_type": "code",
   "execution_count": null,
   "metadata": {},
   "outputs": [],
   "source": []
  },
  {
   "cell_type": "code",
   "execution_count": null,
   "metadata": {},
   "outputs": [],
   "source": []
  },
  {
   "cell_type": "code",
   "execution_count": null,
   "metadata": {},
   "outputs": [],
   "source": []
  },
  {
   "cell_type": "code",
   "execution_count": null,
   "metadata": {},
   "outputs": [],
   "source": []
  },
  {
   "cell_type": "code",
   "execution_count": null,
   "metadata": {},
   "outputs": [],
   "source": []
  },
  {
   "cell_type": "code",
   "execution_count": null,
   "metadata": {},
   "outputs": [],
   "source": []
  }
 ],
 "metadata": {
  "kernelspec": {
   "display_name": "Python 3",
   "language": "python",
   "name": "python3"
  },
  "language_info": {
   "codemirror_mode": {
    "name": "ipython",
    "version": 3
   },
   "file_extension": ".py",
   "mimetype": "text/x-python",
   "name": "python",
   "nbconvert_exporter": "python",
   "pygments_lexer": "ipython3",
   "version": "3.11.9"
  }
 },
 "nbformat": 4,
 "nbformat_minor": 2
}

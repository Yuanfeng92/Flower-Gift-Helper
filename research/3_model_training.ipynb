{
 "cells": [
  {
   "cell_type": "code",
   "execution_count": 1,
   "metadata": {},
   "outputs": [
    {
     "data": {
      "text/plain": [
       "'d:\\\\A - My Projects\\\\A - MLOps\\\\Flower-Gift-Helper'"
      ]
     },
     "execution_count": 1,
     "metadata": {},
     "output_type": "execute_result"
    }
   ],
   "source": [
    "import os\n",
    "os.chdir('../')\n",
    "%pwd"
   ]
  },
  {
   "cell_type": "code",
   "execution_count": null,
   "metadata": {},
   "outputs": [],
   "source": []
  },
  {
   "cell_type": "markdown",
   "metadata": {},
   "source": [
    "# Entity"
   ]
  },
  {
   "cell_type": "code",
   "execution_count": 2,
   "metadata": {},
   "outputs": [],
   "source": [
    "from dataclasses import dataclass\n",
    "from pathlib import Path\n",
    "\n",
    "@dataclass(frozen=True)\n",
    "class ModelTrainingConfig:\n",
    "    data_dir: Path\n",
    "    updated_model_path: Path\n",
    "    trained_model_path: Path\n",
    "    params_validation_split: float\n",
    "    params_input_shape: list\n",
    "    params_batch_size: int\n",
    "    params_is_early_stopping: bool\n",
    "    params_epochs: int\n",
    "    params_learning_rate: float"
   ]
  },
  {
   "cell_type": "code",
   "execution_count": null,
   "metadata": {},
   "outputs": [],
   "source": []
  },
  {
   "cell_type": "markdown",
   "metadata": {},
   "source": [
    "# Configuration Manager"
   ]
  },
  {
   "cell_type": "code",
   "execution_count": 3,
   "metadata": {},
   "outputs": [],
   "source": [
    "from flowerClassifier import logger, CONFIG_FILE_PATH, PARAMS_FILE_PATH\n",
    "from flowerClassifier.utils.common import read_yaml, create_directories"
   ]
  },
  {
   "cell_type": "code",
   "execution_count": 4,
   "metadata": {},
   "outputs": [],
   "source": [
    "class ConfigManager():\n",
    "    def __init__(self, config_filepath = CONFIG_FILE_PATH, params_filepath = PARAMS_FILE_PATH):\n",
    "        \n",
    "        self.config = read_yaml(config_filepath)\n",
    "        self.params = read_yaml(params_filepath)\n",
    "        \n",
    "        create_directories([self.config.artifacts_root_dir])\n",
    "        \n",
    "    def get_model_training_config(self) -> ModelTrainingConfig:\n",
    "        \n",
    "        create_directories([self.config.prepare_base_model.folder_dir])\n",
    "        \n",
    "        model_training_config = ModelTrainingConfig(\n",
    "                data_dir=self.config.data_ingestion.data_dir,\n",
    "                updated_model_path=self.config.prepare_base_model.updated_model_path,\n",
    "                trained_model_path=self.config.model_training.trained_model_path,\n",
    "                params_validation_split=self.params.VALIDATION_SPLIT,\n",
    "                params_input_shape=self.params.IMAGE_SIZE,\n",
    "                params_batch_size=self.params.BATCH_SIZE,\n",
    "                params_is_early_stopping=self.params.EARLY_STOPPING,\n",
    "                params_epochs=self.params.EPOCHS,\n",
    "                params_learning_rate=self.params.LEARNING_RATE\n",
    "        )\n",
    "        \n",
    "        return model_training_config"
   ]
  },
  {
   "cell_type": "code",
   "execution_count": null,
   "metadata": {},
   "outputs": [],
   "source": []
  },
  {
   "cell_type": "markdown",
   "metadata": {},
   "source": [
    "# Component"
   ]
  },
  {
   "cell_type": "code",
   "execution_count": 8,
   "metadata": {},
   "outputs": [],
   "source": [
    "from pathlib import Path\n",
    "import tensorflow as tf\n",
    "from flowerClassifier.utils.common import save_json"
   ]
  },
  {
   "cell_type": "code",
   "execution_count": 11,
   "metadata": {},
   "outputs": [],
   "source": [
    "\n",
    "class TrainBaseModel():\n",
    "    def __init__(self, config: ModelTrainingConfig):\n",
    "        self.config = config\n",
    "        \n",
    "    @staticmethod\n",
    "    def save_model(path: Path, model: tf.keras.Model):\n",
    "        model.save(path)\n",
    "    \n",
    "    def save_mapping(self):\n",
    "        save_json(path=Path(\"constant/class_mapping.json\"), data=self.train_generator.class_indices)\n",
    "    \n",
    "    def train_valid_generator(self):\n",
    "        image_data_generator_kwargs=dict(\n",
    "            rescale=1./255,\n",
    "            validation_split=self.config.params_validation_split\n",
    "            )\n",
    "            \n",
    "        train_datagen = tf.keras.preprocessing.image.ImageDataGenerator(\n",
    "            rotation_range=20,\n",
    "            width_shift_range=0.2,\n",
    "            height_shift_range=0.2,\n",
    "            shear_range=0.2,\n",
    "            zoom_range=0.2,\n",
    "            horizontal_flip=True,\n",
    "            fill_mode='nearest',\n",
    "            **image_data_generator_kwargs\n",
    "        )\n",
    "        \n",
    "        validation_datagen = tf.keras.preprocessing.image.ImageDataGenerator(\n",
    "            **image_data_generator_kwargs\n",
    "        )\n",
    "        \n",
    "        # configure data flow\n",
    "        data_flow_kwargs = dict(\n",
    "            target_size=self.config.params_input_shape[:2],\n",
    "            batch_size=self.config.params_batch_size,\n",
    "            class_mode='categorical',\n",
    "            interpolation=\"bilinear\"\n",
    "        )\n",
    "                \n",
    "        self.train_generator = train_datagen.flow_from_directory(\n",
    "            directory = self.config.data_dir,\n",
    "            subset='training',\n",
    "            shuffle=True,\n",
    "            ** data_flow_kwargs\n",
    "        )\n",
    "        \n",
    "        self.save_mapping()\n",
    "        \n",
    "        self.validation_generator = validation_datagen.flow_from_directory(\n",
    "            directory = self.config.data_dir,\n",
    "            subset='validation',\n",
    "            shuffle=False,\n",
    "            ** data_flow_kwargs\n",
    "        )\n",
    "        \n",
    "    def train_model(self):\n",
    "        self.model = tf.keras.models.load_model(self.config.updated_model_path)\n",
    "\n",
    "        self.model.compile(\n",
    "            optimizer=tf.keras.optimizers.Adam(learning_rate=self.config.params_learning_rate),\n",
    "            loss='categorical_crossentropy',\n",
    "            metrics=['accuracy'])\n",
    "\n",
    "        if self.config.params_is_early_stopping:\n",
    "            early_stopping = tf.keras.callbacks.EarlyStopping(monitor='val_loss', \n",
    "                                                              patience=5, \n",
    "                                                              restore_best_weights=True)\n",
    "                \n",
    "            self.model.fit(self.train_generator,\n",
    "                           validation_data=self.validation_generator,\n",
    "                           epochs=self.config.params_epochs,\n",
    "                           callbacks=[early_stopping])\n",
    "        else:\n",
    "            self.model.fit(self.train_generator, \n",
    "                           validation_data=self.validation_generator,\n",
    "                           epochs=self.config.params_epochs)\n",
    "            \n",
    "        self.save_model(self.config.trained_model_path, self.model)\n",
    "        logger.info(f\"Trained model successfully saved to folder {self.config.trained_model_path}\")"
   ]
  },
  {
   "cell_type": "code",
   "execution_count": null,
   "metadata": {},
   "outputs": [],
   "source": []
  },
  {
   "cell_type": "markdown",
   "metadata": {},
   "source": [
    "# Pipeline"
   ]
  },
  {
   "cell_type": "code",
   "execution_count": 12,
   "metadata": {},
   "outputs": [
    {
     "name": "stdout",
     "output_type": "stream",
     "text": [
      "[2024-09-09 16:05:47,484 | INFO] common: yaml file: constant\\config.yaml loaded successfully\n",
      "[2024-09-09 16:05:47,488 | INFO] common: yaml file: params.yaml loaded successfully\n",
      "[2024-09-09 16:05:47,489 | INFO] common: created directory at: artifacts\n",
      "[2024-09-09 16:05:47,491 | INFO] common: created directory at: artifacts/model_folder\n",
      "Found 2198 images belonging to 5 classes.\n",
      "[2024-09-09 16:05:47,585 | INFO] common: json file saved at: constant\\class_mapping.json\n",
      "Found 548 images belonging to 5 classes.\n"
     ]
    }
   ],
   "source": [
    "config = ConfigManager()\n",
    "model_training_config = config.get_model_training_config()\n",
    "train_base_model = TrainBaseModel(config=model_training_config)\n",
    "train_base_model.train_valid_generator()\n",
    "train_base_model.train_model()"
   ]
  },
  {
   "cell_type": "code",
   "execution_count": null,
   "metadata": {},
   "outputs": [],
   "source": []
  },
  {
   "cell_type": "code",
   "execution_count": null,
   "metadata": {},
   "outputs": [],
   "source": []
  }
 ],
 "metadata": {
  "kernelspec": {
   "display_name": "Python 3",
   "language": "python",
   "name": "python3"
  },
  "language_info": {
   "codemirror_mode": {
    "name": "ipython",
    "version": 3
   },
   "file_extension": ".py",
   "mimetype": "text/x-python",
   "name": "python",
   "nbconvert_exporter": "python",
   "pygments_lexer": "ipython3",
   "version": "3.11.9"
  }
 },
 "nbformat": 4,
 "nbformat_minor": 2
}

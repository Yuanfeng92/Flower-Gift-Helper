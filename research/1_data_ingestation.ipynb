{
 "cells": [
  {
   "cell_type": "code",
   "execution_count": 1,
   "metadata": {},
   "outputs": [
    {
     "data": {
      "text/plain": [
       "'d:\\\\A - My Projects\\\\A - MLOps\\\\Flower-Gift-Helper'"
      ]
     },
     "execution_count": 1,
     "metadata": {},
     "output_type": "execute_result"
    }
   ],
   "source": [
    "import os\n",
    "os.chdir(\"../\")\n",
    "%pwd"
   ]
  },
  {
   "cell_type": "markdown",
   "metadata": {},
   "source": [
    "# Entity"
   ]
  },
  {
   "cell_type": "code",
   "execution_count": 2,
   "metadata": {},
   "outputs": [],
   "source": [
    "from dataclasses import dataclass\n",
    "from pathlib import Path\n",
    "\n",
    "@dataclass(frozen=True)\n",
    "class DataIngestionConfig:\n",
    "    folder_dir: Path\n",
    "    source_URL: str\n",
    "    data_file_path: Path\n",
    "    unzip_folder_dir: Path\n",
    "    data_dir: Path\n",
    "    train_dir: Path\n",
    "    test_dir: Path\n",
    "    params_test_split: float"
   ]
  },
  {
   "cell_type": "code",
   "execution_count": null,
   "metadata": {},
   "outputs": [],
   "source": []
  },
  {
   "cell_type": "markdown",
   "metadata": {},
   "source": [
    "# Configuration Manager"
   ]
  },
  {
   "cell_type": "code",
   "execution_count": 3,
   "metadata": {},
   "outputs": [],
   "source": [
    "from flowerClassifier import logger, CONFIG_FILE_PATH, PARAMS_FILE_PATH\n",
    "from flowerClassifier.utils.common import read_yaml, create_directories"
   ]
  },
  {
   "cell_type": "code",
   "execution_count": 4,
   "metadata": {},
   "outputs": [],
   "source": [
    "class ConfigManager():\n",
    "    def __init__(self, config_filepath = CONFIG_FILE_PATH, params_filepath = PARAMS_FILE_PATH):\n",
    "        \n",
    "        self.config = read_yaml(config_filepath)\n",
    "        self.params = read_yaml(params_filepath)\n",
    "        \n",
    "        create_directories([self.config.artifacts_root_dir])\n",
    "        \n",
    "    def get_data_ingestion_config(self) -> DataIngestionConfig:\n",
    "        config = self.config.data_ingestion\n",
    "        \n",
    "        create_directories([config.folder_dir])\n",
    "        \n",
    "        data_ingestion_config = DataIngestionConfig(\n",
    "            folder_dir=config.folder_dir,\n",
    "            source_URL=config.source_URL,\n",
    "            data_file_path=config.data_file_path,\n",
    "            unzip_folder_dir=config.unzip_folder_dir,\n",
    "            data_dir=config.data_dir,\n",
    "            train_dir=config.train_dir,\n",
    "            test_dir=config.test_dir,\n",
    "            params_test_split=self.params.TEST_SPLIT,\n",
    "        )\n",
    "        \n",
    "        return data_ingestion_config\n"
   ]
  },
  {
   "cell_type": "code",
   "execution_count": null,
   "metadata": {},
   "outputs": [],
   "source": []
  },
  {
   "cell_type": "markdown",
   "metadata": {},
   "source": [
    "# Component"
   ]
  },
  {
   "cell_type": "code",
   "execution_count": 5,
   "metadata": {},
   "outputs": [],
   "source": [
    "import os\n",
    "import zipfile\n",
    "import gdown\n",
    "from flowerClassifier import logger\n",
    "from sklearn.model_selection import train_test_split\n",
    "import shutil"
   ]
  },
  {
   "cell_type": "code",
   "execution_count": 8,
   "metadata": {},
   "outputs": [],
   "source": [
    "class DataIngestion:\n",
    "    def __init__(self, config: DataIngestionConfig):\n",
    "        self.config = config\n",
    "\n",
    "    \n",
    "    def download_file(self)-> str:\n",
    "        '''\n",
    "        Fetch data from the url\n",
    "        '''\n",
    "        try: \n",
    "            dataset_url=self.config.source_URL\n",
    "            zip_download_dir=self.config.data_file_path\n",
    "            os.makedirs(self.config.folder_dir, exist_ok=True)\n",
    "            logger.info(f\"Downloading data from {dataset_url} into file {zip_download_dir}\")\n",
    "\n",
    "            file_id = dataset_url.split(\"/\")[-2]\n",
    "            prefix = 'https://drive.google.com/uc?/export=download&id='\n",
    "            gdown.download(prefix+file_id, zip_download_dir)\n",
    "            logger.info(f\"Downloaded data from {dataset_url} into file {zip_download_dir}\")\n",
    "        except Exception as e:\n",
    "            raise e\n",
    "        \n",
    "    \n",
    "    def extract_zip_file(self):\n",
    "        \"\"\"\n",
    "        zip_file_path: str\n",
    "        Extracts the zip file into the data directory\n",
    "        Function returns None\n",
    "        \"\"\"\n",
    "        unzip_path = self.config.unzip_folder_dir\n",
    "        os.makedirs(unzip_path, exist_ok=True)\n",
    "        with zipfile.ZipFile(self.config.data_file_path, 'r') as zip_ref:\n",
    "            zip_ref.extractall(unzip_path)\n",
    "            \n",
    "            \n",
    "    def split_data(self):\n",
    "        # Create train and validation directories if they don't exist\n",
    "        os.makedirs(self.config.train_dir, exist_ok=True)\n",
    "        os.makedirs(self.config.test_dir, exist_ok=True)\n",
    "\n",
    "        # Get all class folders\n",
    "        classes = os.listdir(self.config.data_dir)\n",
    "\n",
    "        for cls in classes:\n",
    "            # Create class folders in train and validation directories\n",
    "            os.makedirs(os.path.join(self.config.train_dir, cls), exist_ok=True)\n",
    "            os.makedirs(os.path.join(self.config.test_dir, cls), exist_ok=True)\n",
    "\n",
    "            # Get all images in the class folder\n",
    "            images = os.listdir(os.path.join(self.config.data_dir, cls))\n",
    "\n",
    "            # Split the images into train and validation sets\n",
    "            train_images, val_images = train_test_split(images, test_size=self.config.params_test_split, random_state=42)\n",
    "\n",
    "            # Move train images\n",
    "            for img in train_images:\n",
    "                src = os.path.join(self.config.data_dir, cls, img)\n",
    "                dst = os.path.join(self.config.train_dir, cls, img)\n",
    "                shutil.copy(src, dst)\n",
    "\n",
    "            # Move validation images\n",
    "            for img in val_images:\n",
    "                src = os.path.join(self.config.data_dir, cls, img)\n",
    "                dst = os.path.join(self.config.test_dir, cls, img)\n",
    "                shutil.copy(src, dst)\n",
    "                \n",
    "        logger.info(f\"Data split successfully completed.\")"
   ]
  },
  {
   "cell_type": "code",
   "execution_count": null,
   "metadata": {},
   "outputs": [],
   "source": []
  },
  {
   "cell_type": "markdown",
   "metadata": {},
   "source": [
    "# Pipeline"
   ]
  },
  {
   "cell_type": "code",
   "execution_count": 9,
   "metadata": {},
   "outputs": [
    {
     "name": "stdout",
     "output_type": "stream",
     "text": [
      "[2024-09-07 09:14:47,182 | INFO] common: yaml file: constant\\config.yaml loaded successfully\n",
      "[2024-09-07 09:14:47,184 | INFO] common: yaml file: constant\\params.yaml loaded successfully\n",
      "[2024-09-07 09:14:47,185 | INFO] common: created directory at: artifacts\n",
      "[2024-09-07 09:14:47,186 | INFO] common: created directory at: artifacts/data_ingestion\n",
      "[2024-09-07 09:14:47,187 | INFO] 3879767291: Downloading data from https://drive.google.com/file/d/1fQyEq3wMn5hmonwp632xlGTTtDzVxFZz/view?usp=sharing into file artifacts/data_ingestion/data.zip\n"
     ]
    },
    {
     "name": "stderr",
     "output_type": "stream",
     "text": [
      "Downloading...\n",
      "From (original): https://drive.google.com/uc?/export=download&id=1fQyEq3wMn5hmonwp632xlGTTtDzVxFZz\n",
      "From (redirected): https://drive.google.com/uc?%2Fexport=download&id=1fQyEq3wMn5hmonwp632xlGTTtDzVxFZz&confirm=t&uuid=cb0df22f-7ba4-485a-b207-72d05f860e89\n",
      "To: d:\\A - My Projects\\A - MLOps\\Flower-Gift-Helper\\artifacts\\data_ingestion\\data.zip\n",
      "100%|██████████| 215M/215M [00:26<00:00, 8.12MB/s] "
     ]
    },
    {
     "name": "stdout",
     "output_type": "stream",
     "text": [
      "[2024-09-07 09:15:18,166 | INFO] 3879767291: Downloaded data from https://drive.google.com/file/d/1fQyEq3wMn5hmonwp632xlGTTtDzVxFZz/view?usp=sharing into file artifacts/data_ingestion/data.zip\n"
     ]
    },
    {
     "name": "stderr",
     "output_type": "stream",
     "text": [
      "\n"
     ]
    },
    {
     "name": "stdout",
     "output_type": "stream",
     "text": [
      "[2024-09-07 09:15:21,341 | INFO] 3879767291: Data split successfully completed.\n"
     ]
    }
   ],
   "source": [
    "try:\n",
    "    config = ConfigManager()\n",
    "    data_ingestion_config = config.get_data_ingestion_config()\n",
    "    data_ingestion = DataIngestion(config=data_ingestion_config)\n",
    "    data_ingestion.download_file()\n",
    "    data_ingestion.extract_zip_file()\n",
    "    data_ingestion.split_data()\n",
    "except Exception as e:\n",
    "    raise e"
   ]
  },
  {
   "cell_type": "code",
   "execution_count": null,
   "metadata": {},
   "outputs": [],
   "source": []
  },
  {
   "cell_type": "code",
   "execution_count": null,
   "metadata": {},
   "outputs": [],
   "source": []
  }
 ],
 "metadata": {
  "kernelspec": {
   "display_name": "Python 3",
   "language": "python",
   "name": "python3"
  },
  "language_info": {
   "codemirror_mode": {
    "name": "ipython",
    "version": 3
   },
   "file_extension": ".py",
   "mimetype": "text/x-python",
   "name": "python",
   "nbconvert_exporter": "python",
   "pygments_lexer": "ipython3",
   "version": "3.11.9"
  }
 },
 "nbformat": 4,
 "nbformat_minor": 2
}

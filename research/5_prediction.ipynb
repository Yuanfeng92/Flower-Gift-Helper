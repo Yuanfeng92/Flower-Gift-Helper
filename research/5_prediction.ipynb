{
 "cells": [
  {
   "cell_type": "code",
   "execution_count": 4,
   "metadata": {},
   "outputs": [
    {
     "data": {
      "text/plain": [
       "'d:\\\\A - My Projects\\\\A - MLOps\\\\Flower-Gift-Helper'"
      ]
     },
     "execution_count": 4,
     "metadata": {},
     "output_type": "execute_result"
    }
   ],
   "source": [
    "import os\n",
    "os.chdir('../')\n",
    "%pwd"
   ]
  },
  {
   "cell_type": "markdown",
   "metadata": {},
   "source": [
    "# Components"
   ]
  },
  {
   "cell_type": "code",
   "execution_count": 1,
   "metadata": {},
   "outputs": [],
   "source": [
    "import tensorflow as tf\n",
    "from pathlib import Path\n",
    "import numpy as np\n",
    "from flowerClassifier.utils.common import load_json\n",
    "from flowerClassifier.config.configuration import ConfigManager\n",
    "from flowerClassifier.entity.entity_class import ModelEvaluationConfig "
   ]
  },
  {
   "cell_type": "code",
   "execution_count": 3,
   "metadata": {},
   "outputs": [],
   "source": []
  },
  {
   "cell_type": "code",
   "execution_count": 2,
   "metadata": {},
   "outputs": [],
   "source": [
    "class ImageClassifier():\n",
    "    def __init__(self):\n",
    "        \n",
    "        config = ConfigManager()\n",
    "        model_evaluation_config = config.get_model_evaluation_config()\n",
    "        self.config = model_evaluation_config\n",
    "        \n",
    "        self.trained_model = tf.keras.models.load_model(self.config.trained_model_path)\n",
    "        self.class_mapping = load_json(Path(\"constant/class_mapping.json\"))\n",
    "        self.class_mapping_reverse = {}\n",
    "        for key, value in self.class_mapping.items():\n",
    "            self.class_mapping_reverse[value] = key\n",
    "            \n",
    "        print()\n",
    "        \n",
    "    def predict(self, image_path):\n",
    "        \n",
    "        input_image = tf.keras.preprocessing.image.load_img(image_path, target_size =self.config.params_input_shape[:2])\n",
    "        input_image = tf.keras.preprocessing.image.img_to_array(input_image)\n",
    "        input_image = np.expand_dims(input_image, axis = 0)\n",
    "        \n",
    "        # Normalize by dividing by 255 to match the evaluation pipeline\n",
    "        input_image = input_image / 255.0\n",
    "        \n",
    "        model_pred =  self.trained_model.predict(input_image)\n",
    "        prediction_index = np.argmax(model_pred, axis=1)[0]\n",
    "        prediction_class = self.class_mapping_reverse[prediction_index]\n",
    "        \n",
    "        return prediction_class"
   ]
  },
  {
   "cell_type": "markdown",
   "metadata": {},
   "source": [
    "# Pipeline"
   ]
  },
  {
   "cell_type": "code",
   "execution_count": 15,
   "metadata": {},
   "outputs": [],
   "source": [
    "from flowerClassifier.config.configuration import ConfigManager\n"
   ]
  },
  {
   "cell_type": "code",
   "execution_count": 5,
   "metadata": {},
   "outputs": [
    {
     "name": "stdout",
     "output_type": "stream",
     "text": [
      "[2024-09-09 23:11:43,884 | INFO] common: yaml file: constant\\config.yaml loaded successfully\n",
      "[2024-09-09 23:11:43,887 | INFO] common: yaml file: params.yaml loaded successfully\n",
      "[2024-09-09 23:11:43,888 | INFO] common: created directory at: artifacts\n",
      "[2024-09-09 23:11:44,796 | INFO] common: json file loaded succesfully from: constant\\class_mapping.json\n",
      "\n",
      "\u001b[1m1/1\u001b[0m \u001b[32m━━━━━━━━━━━━━━━━━━━━\u001b[0m\u001b[37m\u001b[0m \u001b[1m1s\u001b[0m 992ms/step\n",
      "rose\n"
     ]
    }
   ],
   "source": [
    "img_cls = ImageClassifier()\n",
    "prediction = img_cls.predict(Path(\"artifacts/data_ingestion/model/test/rose/6105809987_8f3d7a8d67_n.jpg\"))\n",
    "print(prediction)"
   ]
  },
  {
   "cell_type": "code",
   "execution_count": 7,
   "metadata": {},
   "outputs": [
    {
     "data": {
      "text/plain": [
       "'Asdsa'"
      ]
     },
     "execution_count": 7,
     "metadata": {},
     "output_type": "execute_result"
    }
   ],
   "source": [
    "'asdsa'.capitalize()"
   ]
  },
  {
   "cell_type": "code",
   "execution_count": null,
   "metadata": {},
   "outputs": [],
   "source": []
  },
  {
   "cell_type": "code",
   "execution_count": null,
   "metadata": {},
   "outputs": [],
   "source": []
  }
 ],
 "metadata": {
  "kernelspec": {
   "display_name": "Python 3",
   "language": "python",
   "name": "python3"
  },
  "language_info": {
   "codemirror_mode": {
    "name": "ipython",
    "version": 3
   },
   "file_extension": ".py",
   "mimetype": "text/x-python",
   "name": "python",
   "nbconvert_exporter": "python",
   "pygments_lexer": "ipython3",
   "version": "3.11.9"
  }
 },
 "nbformat": 4,
 "nbformat_minor": 2
}
